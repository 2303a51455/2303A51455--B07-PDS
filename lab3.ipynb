{
  "nbformat": 4,
  "nbformat_minor": 0,
  "metadata": {
    "colab": {
      "provenance": [],
      "authorship_tag": "ABX9TyPelilNmSBgg4Ac0oX/QfE+",
      "include_colab_link": true
    },
    "kernelspec": {
      "name": "python3",
      "display_name": "Python 3"
    },
    "language_info": {
      "name": "python"
    }
  },
  "cells": [
    {
      "cell_type": "markdown",
      "metadata": {
        "id": "view-in-github",
        "colab_type": "text"
      },
      "source": [
        "<a href=\"https://colab.research.google.com/github/2303a51455/2303A51455--B07-PDS/blob/main/lab3.ipynb\" target=\"_parent\"><img src=\"https://colab.research.google.com/assets/colab-badge.svg\" alt=\"Open In Colab\"/></a>"
      ]
    },
    {
      "cell_type": "markdown",
      "source": [
        "1st question"
      ],
      "metadata": {
        "id": "kQSKiKD3-eGi"
      }
    },
    {
      "cell_type": "code",
      "execution_count": 1,
      "metadata": {
        "colab": {
          "base_uri": "https://localhost:8080/"
        },
        "id": "WMofW7K097C7",
        "outputId": "77314850-9c49-4f7c-8dbf-2f8e34af05ae"
      },
      "outputs": [
        {
          "output_type": "stream",
          "name": "stdout",
          "text": [
            "Matrix A:\n",
            " [[7 6 5]\n",
            " [5 1 8]\n",
            " [8 7 1]]\n",
            "Matrix B:\n",
            " [[7 8 5]\n",
            " [9 6 9]\n",
            " [4 2 5]]\n"
          ]
        }
      ],
      "source": [
        "import numpy as np\n",
        "A = np.random.randint(1, 11, (3, 3))\n",
        "B = np.random.randint(1, 11, (3, 3))\n",
        "\n",
        "print(\"Matrix A:\\n\", A)\n",
        "print(\"Matrix B:\\n\", B)\n"
      ]
    },
    {
      "cell_type": "code",
      "source": [
        "add_result = np.add(A, B)\n",
        "print( add_result)\n"
      ],
      "metadata": {
        "colab": {
          "base_uri": "https://localhost:8080/"
        },
        "id": "vmS2Wz1Y-LMz",
        "outputId": "60c27e27-2619-4309-9f4a-3fb4d3a62c85"
      },
      "execution_count": 3,
      "outputs": [
        {
          "output_type": "stream",
          "name": "stdout",
          "text": [
            "[[14 14 10]\n",
            " [14  7 17]\n",
            " [12  9  6]]\n"
          ]
        }
      ]
    },
    {
      "cell_type": "code",
      "source": [
        "\n",
        "sub_result = np.subtract(A, B)\n",
        "print( sub_result)\n"
      ],
      "metadata": {
        "colab": {
          "base_uri": "https://localhost:8080/"
        },
        "id": "EV3XXpjU-PVr",
        "outputId": "04d57f48-4433-41b6-a976-09afd3d024af"
      },
      "execution_count": 4,
      "outputs": [
        {
          "output_type": "stream",
          "name": "stdout",
          "text": [
            "[[ 0 -2  0]\n",
            " [-4 -5 -1]\n",
            " [ 4  5 -4]]\n"
          ]
        }
      ]
    },
    {
      "cell_type": "code",
      "source": [
        "\n",
        "manual_add = A[0,0] + B[0,0]\n",
        "manual_sub = A[0,0] - B[0,0]\n",
        "\n",
        "print(f\"Manual check for position [0,0]: {A[0,0]} + {B[0,0]} = {manual_add}\")\n",
        "print(f\"Manual check for position [0,0]: {A[0,0]} - {B[0,0]} = {manual_sub}\")\n"
      ],
      "metadata": {
        "colab": {
          "base_uri": "https://localhost:8080/"
        },
        "id": "wyNA4Ajh-XHB",
        "outputId": "9b60ceb6-f381-4361-affc-cc6e5ec3d367"
      },
      "execution_count": 5,
      "outputs": [
        {
          "output_type": "stream",
          "name": "stdout",
          "text": [
            "Manual check for position [0,0]: 7 + 7 = 14\n",
            "Manual check for position [0,0]: 7 - 7 = 0\n"
          ]
        }
      ]
    },
    {
      "cell_type": "markdown",
      "source": [
        "2nd question"
      ],
      "metadata": {
        "id": "AVse5jYe-cTX"
      }
    },
    {
      "cell_type": "code",
      "source": [
        "import numpy as np\n",
        "A = np.random.randint(1, 10, (3, 2))\n",
        "B = np.random.randint(1, 10, (2, 3))\n",
        "\n",
        "print(\"Matrix A (3x2):\\n\", A)\n",
        "print(\"Matrix B (2x3):\\n\", B)\n"
      ],
      "metadata": {
        "colab": {
          "base_uri": "https://localhost:8080/"
        },
        "id": "afyzwpO_-g1B",
        "outputId": "04179425-65ee-4ddb-d393-3f75b5c3636e"
      },
      "execution_count": 6,
      "outputs": [
        {
          "output_type": "stream",
          "name": "stdout",
          "text": [
            "Matrix A (3x2):\n",
            " [[8 4]\n",
            " [7 4]\n",
            " [1 7]]\n",
            "Matrix B (2x3):\n",
            " [[2 8 8]\n",
            " [8 9 5]]\n"
          ]
        }
      ]
    },
    {
      "cell_type": "code",
      "source": [
        "\n",
        "C = np.dot(A, B)\n",
        "print(\"Result of A x B (3x3):\\n\", C)\n"
      ],
      "metadata": {
        "colab": {
          "base_uri": "https://localhost:8080/"
        },
        "id": "baL20KQB-xxn",
        "outputId": "32070991-e341-4926-9fbf-d97429ab21d5"
      },
      "execution_count": 7,
      "outputs": [
        {
          "output_type": "stream",
          "name": "stdout",
          "text": [
            "Result of A x B (3x3):\n",
            " [[ 48 100  84]\n",
            " [ 46  92  76]\n",
            " [ 58  71  43]]\n"
          ]
        }
      ]
    },
    {
      "cell_type": "code",
      "source": [
        "print(\"Shape of A:\", A.shape)\n",
        "print(\"Shape of B:\", B.shape)\n",
        "print(\"Shape of Result:\", C.shape)\n"
      ],
      "metadata": {
        "colab": {
          "base_uri": "https://localhost:8080/"
        },
        "id": "0UiFcEHX-2AO",
        "outputId": "a37ba8bf-f640-4c18-df51-90a32a088b69"
      },
      "execution_count": 8,
      "outputs": [
        {
          "output_type": "stream",
          "name": "stdout",
          "text": [
            "Shape of A: (3, 2)\n",
            "Shape of B: (2, 3)\n",
            "Shape of Result: (3, 3)\n"
          ]
        }
      ]
    },
    {
      "cell_type": "code",
      "source": [
        "manual_check = A[0,0]*B[0,0] + A[0,1]*B[1,0]\n",
        "print(f\"Manual check for C[0,0]: {manual_check} vs {C[0,0]}\")\n"
      ],
      "metadata": {
        "colab": {
          "base_uri": "https://localhost:8080/"
        },
        "id": "_Du4jiGP-4-D",
        "outputId": "493de08c-6716-4d27-f04d-9f879c009532"
      },
      "execution_count": 9,
      "outputs": [
        {
          "output_type": "stream",
          "name": "stdout",
          "text": [
            "Manual check for C[0,0]: 48 vs 48\n"
          ]
        }
      ]
    },
    {
      "cell_type": "code",
      "source": [],
      "metadata": {
        "id": "WNV8hOHE-8pA"
      },
      "execution_count": null,
      "outputs": []
    }
  ]
}