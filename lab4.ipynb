{
  "nbformat": 4,
  "nbformat_minor": 0,
  "metadata": {
    "colab": {
      "provenance": [],
      "authorship_tag": "ABX9TyPfAvV9hpXBevOt4GTHlaRj",
      "include_colab_link": true
    },
    "kernelspec": {
      "name": "python3",
      "display_name": "Python 3"
    },
    "language_info": {
      "name": "python"
    }
  },
  "cells": [
    {
      "cell_type": "markdown",
      "metadata": {
        "id": "view-in-github",
        "colab_type": "text"
      },
      "source": [
        "<a href=\"https://colab.research.google.com/github/2303a51455/2303A51455--B07-PDS/blob/main/lab4.ipynb\" target=\"_parent\"><img src=\"https://colab.research.google.com/assets/colab-badge.svg\" alt=\"Open In Colab\"/></a>"
      ]
    },
    {
      "cell_type": "markdown",
      "source": [
        "**studentscore**"
      ],
      "metadata": {
        "id": "ejv-ZXKxGpwZ"
      }
    },
    {
      "cell_type": "code",
      "execution_count": 2,
      "metadata": {
        "colab": {
          "base_uri": "https://localhost:8080/"
        },
        "id": "LM5lQLkTFySm",
        "outputId": "e15a0162-45e8-43f4-a70b-5fe2733bbe97"
      },
      "outputs": [
        {
          "output_type": "stream",
          "name": "stdout",
          "text": [
            "Students scoring more than 75 in all subjects:\n",
            "   student_id     name      maths  science  english\n",
            "0        1498  sahithi  99.000000       88    100.0\n",
            "1        1455    sanju  89.000000       77    100.0\n",
            "5        1819    vigna  77.166667       78     93.0\n"
          ]
        }
      ],
      "source": [
        "import pandas as pd\n",
        "\n",
        "# Read Excel file\n",
        "df = pd.read_csv(\"/content/lab4,studentscore_1.csv\")   # replace with your file name\n",
        "\n",
        "# Remove leading/trailing spaces from column names\n",
        "df.columns = df.columns.str.strip()\n",
        "\n",
        "# Fill missing marks with column-wise average\n",
        "df_filled = df.fillna(df.mean(numeric_only=True))\n",
        "\n",
        "# Filter students who scored more than 75 in all subjects (excluding name/id column)\n",
        "filtered_students = df_filled[(df_filled.drop(columns=['name']) > 75).all(axis=1)]\n",
        "\n",
        "print(\"Students scoring more than 75 in all subjects:\")\n",
        "print(filtered_students)\n",
        "\n",
        "# Save result\n",
        "filtered_students.to_excel(\"filtered_students.xlsx\", index=False)"
      ]
    },
    {
      "cell_type": "markdown",
      "source": [
        "**patients**"
      ],
      "metadata": {
        "id": "qF8-QVuZHEaU"
      }
    },
    {
      "cell_type": "code",
      "source": [
        "import pandas as pd\n",
        "\n",
        "df = pd.read_csv(\"/content/patients_1.csv\")\n",
        "\n",
        "df[\"Age\"] = df[\"Age\"].fillna(df[\"Age\"].median())\n",
        "\n",
        "filtered = df[(df[\"Gender\"].str.lower() == \"female\") &\n",
        "              (df[\"Age\"] > 50) &\n",
        "              (df[\"Diagnosis\"].str.lower() == \"diabetes\")]\n",
        "\n",
        "print(\"Female patients above 50 diagnosed with Diabetes:\")\n",
        "print(filtered)\n",
        "\n",
        "filtered.to_csv(\"filtered_patients.csv\", index=False)"
      ],
      "metadata": {
        "colab": {
          "base_uri": "https://localhost:8080/"
        },
        "id": "_FpC8e1HG4ys",
        "outputId": "d723c292-59a8-4110-826d-023df6669538"
      },
      "execution_count": 4,
      "outputs": [
        {
          "output_type": "stream",
          "name": "stdout",
          "text": [
            "Female patients above 50 diagnosed with Diabetes:\n",
            "  Patient_ID    Name   Age  Gender Diagnosis Admission_Date\n",
            "0       P101   Meera  55.0  Female  Diabetes      3/12/2025\n",
            "2       P103  Ananya  52.5  Female  Diabetes      1/25/2025\n",
            "4       P105  Saanvi  72.0  Female  Diabetes      2/10/2025\n",
            "6       P107    Isha  52.5  Female  Diabetes      1/15/2025\n"
          ]
        }
      ]
    }
  ]
}