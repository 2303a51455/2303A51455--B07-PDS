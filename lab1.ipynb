{
  "nbformat": 4,
  "nbformat_minor": 0,
  "metadata": {
    "colab": {
      "provenance": [],
      "authorship_tag": "ABX9TyPtgzQgvPuKY0msfdjK+UNk",
      "include_colab_link": true
    },
    "kernelspec": {
      "name": "python3",
      "display_name": "Python 3"
    },
    "language_info": {
      "name": "python"
    }
  },
  "cells": [
    {
      "cell_type": "markdown",
      "metadata": {
        "id": "view-in-github",
        "colab_type": "text"
      },
      "source": [
        "<a href=\"https://colab.research.google.com/github/2303a51455/2303A51455--B07-PDS/blob/main/lab1.ipynb\" target=\"_parent\"><img src=\"https://colab.research.google.com/assets/colab-badge.svg\" alt=\"Open In Colab\"/></a>"
      ]
    },
    {
      "cell_type": "markdown",
      "source": [
        "1st question"
      ],
      "metadata": {
        "id": "4ZO0gsMh21qD"
      }
    },
    {
      "cell_type": "code",
      "execution_count": 1,
      "metadata": {
        "colab": {
          "base_uri": "https://localhost:8080/"
        },
        "id": "pufmA_nSRGV8",
        "outputId": "db4c1544-0f80-4291-af4e-9a31041b756a"
      },
      "outputs": [
        {
          "output_type": "stream",
          "name": "stdout",
          "text": [
            "Factorial of 5 = 120\n"
          ]
        }
      ],
      "source": [
        "def factorial(n):\n",
        "    if n == 0 or n == 1:\n",
        "        return 1\n",
        "    else:\n",
        "        return n * factorial(n - 1)\n",
        "\n",
        "\n",
        "num = 5\n",
        "print(f\"Factorial of {num} = {factorial(num)}\")"
      ]
    },
    {
      "cell_type": "code",
      "source": [
        "def factorial(n):\n",
        "    print(f\"factorial({n}) called\")\n",
        "    if n == 0 or n == 1:\n",
        "        print(f\"factorial({n}) returning 1\")\n",
        "        return 1\n",
        "    else:\n",
        "        result = n * factorial(n - 1)\n",
        "        print(f\"factorial({n}) returning {result}\")\n",
        "        return result\n",
        "\n",
        "\n",
        "num = 4\n",
        "print(\"Final Answer:\", factorial(num))\n"
      ],
      "metadata": {
        "colab": {
          "base_uri": "https://localhost:8080/"
        },
        "id": "ScynRnPZRYUh",
        "outputId": "e9510e42-f914-4f86-f1b1-bdbf33b5dbe9"
      },
      "execution_count": 2,
      "outputs": [
        {
          "output_type": "stream",
          "name": "stdout",
          "text": [
            "factorial(4) called\n",
            "factorial(3) called\n",
            "factorial(2) called\n",
            "factorial(1) called\n",
            "factorial(1) returning 1\n",
            "factorial(2) returning 2\n",
            "factorial(3) returning 6\n",
            "factorial(4) returning 24\n",
            "Final Answer: 24\n"
          ]
        }
      ]
    },
    {
      "cell_type": "code",
      "source": [
        "def factorial(n, depth=0):\n",
        "    indent = \"  \" * depth\n",
        "    print(f\"{indent}factorial({n}) called\")\n",
        "\n",
        "    if n == 0 or n == 1:\n",
        "        print(f\"{indent}Returning 1 (base case)\")\n",
        "        return 1\n",
        "    else:\n",
        "        result = n * factorial(n - 1, depth + 1)\n",
        "        print(f\"{indent}Returning {result} from factorial({n})\")\n",
        "        return result\n",
        "\n",
        "\n",
        "num = 5\n",
        "print(\"Final Answer:\", factorial(num))"
      ],
      "metadata": {
        "colab": {
          "base_uri": "https://localhost:8080/"
        },
        "id": "FOvL2xio1Qqr",
        "outputId": "2283bac2-b108-41a1-f856-a42f1aab9f7e"
      },
      "execution_count": 1,
      "outputs": [
        {
          "output_type": "stream",
          "name": "stdout",
          "text": [
            "factorial(5) called\n",
            "  factorial(4) called\n",
            "    factorial(3) called\n",
            "      factorial(2) called\n",
            "        factorial(1) called\n",
            "        Returning 1 (base case)\n",
            "      Returning 2 from factorial(2)\n",
            "    Returning 6 from factorial(3)\n",
            "  Returning 24 from factorial(4)\n",
            "Returning 120 from factorial(5)\n",
            "Final Answer: 120\n"
          ]
        }
      ]
    },
    {
      "cell_type": "code",
      "source": [
        "def factorial(n, depth=0):\n",
        "    indent = \"  \" * depth\n",
        "    print(f\"{indent}factorial({n}) called\")\n",
        "\n",
        "    if n == 0 or n == 1:\n",
        "        print(f\"{indent}Returning 1 (base case)\")\n",
        "        return 1\n",
        "    else:\n",
        "        result = n * factorial(n - 1, depth + 1)\n",
        "        print(f\"{indent}Returning {result} from factorial({n})\")\n",
        "        return result\n",
        "\n",
        "\n",
        "num = int(input(\"Enter a number (≤ 10): \"))\n",
        "if num > 10:\n",
        "    print(\"Number too large! Please enter ≤ 10.\")\n",
        "else:\n",
        "    print(\"Final Answer:\", factorial(num))\n"
      ],
      "metadata": {
        "colab": {
          "base_uri": "https://localhost:8080/"
        },
        "id": "5pDvn3yQ1Z-G",
        "outputId": "9571b5e4-e0bc-46a4-bfe6-a2d08e62b503"
      },
      "execution_count": 2,
      "outputs": [
        {
          "output_type": "stream",
          "name": "stdout",
          "text": [
            "Enter a number (≤ 10): 7\n",
            "factorial(7) called\n",
            "  factorial(6) called\n",
            "    factorial(5) called\n",
            "      factorial(4) called\n",
            "        factorial(3) called\n",
            "          factorial(2) called\n",
            "            factorial(1) called\n",
            "            Returning 1 (base case)\n",
            "          Returning 2 from factorial(2)\n",
            "        Returning 6 from factorial(3)\n",
            "      Returning 24 from factorial(4)\n",
            "    Returning 120 from factorial(5)\n",
            "  Returning 720 from factorial(6)\n",
            "Returning 5040 from factorial(7)\n",
            "Final Answer: 5040\n"
          ]
        }
      ]
    },
    {
      "cell_type": "code",
      "source": [
        "def factorial(n, depth=0):\n",
        "    indent = \"  \" * depth\n",
        "    print(f\"{indent}factorial({n}) called\")\n",
        "\n",
        "    if n == 0 or n == 1:\n",
        "        print(f\"{indent}--> Base Case reached! Returning 1\")\n",
        "        return 1\n",
        "    else:\n",
        "        print(f\"{indent}--> Recursive Case: {n} * factorial({n-1})\")\n",
        "        result = n * factorial(n - 1, depth + 1)\n",
        "        print(f\"{indent}Returning {result} from factorial({n})\")\n",
        "        return result\n",
        "\n",
        "\n",
        "num = 4\n",
        "print(\"Final Answer:\", factorial(num))\n"
      ],
      "metadata": {
        "colab": {
          "base_uri": "https://localhost:8080/"
        },
        "id": "tj3kxdJF1eu7",
        "outputId": "56fdc18f-4ec9-4c87-b857-66587020ec4e"
      },
      "execution_count": 3,
      "outputs": [
        {
          "output_type": "stream",
          "name": "stdout",
          "text": [
            "factorial(4) called\n",
            "--> Recursive Case: 4 * factorial(3)\n",
            "  factorial(3) called\n",
            "  --> Recursive Case: 3 * factorial(2)\n",
            "    factorial(2) called\n",
            "    --> Recursive Case: 2 * factorial(1)\n",
            "      factorial(1) called\n",
            "      --> Base Case reached! Returning 1\n",
            "    Returning 2 from factorial(2)\n",
            "  Returning 6 from factorial(3)\n",
            "Returning 24 from factorial(4)\n",
            "Final Answer: 24\n"
          ]
        }
      ]
    },
    {
      "cell_type": "code",
      "source": [
        "def factorial(n, depth=0):\n",
        "    indent = \"  \" * depth\n",
        "    if n == 0 or n == 1:\n",
        "        print(f\"{indent}{n} -> 1 (base case)\")\n",
        "        return 1\n",
        "    else:\n",
        "        print(f\"{indent}{n} -> {n} * factorial({n-1})\")\n",
        "        result = n * factorial(n - 1, depth + 1)\n",
        "        print(f\"{indent}Returning {result}\")\n",
        "        return result\n",
        "\n",
        "num = 6\n",
        "print(\"Call Tree:\")\n",
        "print(\"Final Answer:\", factorial(num))\n"
      ],
      "metadata": {
        "colab": {
          "base_uri": "https://localhost:8080/"
        },
        "id": "VlJ42RWu1pi_",
        "outputId": "e5321922-e4ba-43eb-c7c3-d37d90ee7bf5"
      },
      "execution_count": 4,
      "outputs": [
        {
          "output_type": "stream",
          "name": "stdout",
          "text": [
            "Call Tree:\n",
            "6 -> 6 * factorial(5)\n",
            "  5 -> 5 * factorial(4)\n",
            "    4 -> 4 * factorial(3)\n",
            "      3 -> 3 * factorial(2)\n",
            "        2 -> 2 * factorial(1)\n",
            "          1 -> 1 (base case)\n",
            "        Returning 2\n",
            "      Returning 6\n",
            "    Returning 24\n",
            "  Returning 120\n",
            "Returning 720\n",
            "Final Answer: 720\n"
          ]
        }
      ]
    },
    {
      "cell_type": "markdown",
      "source": [
        "2nd question"
      ],
      "metadata": {
        "id": "A4OJxh_Q25zp"
      }
    },
    {
      "cell_type": "code",
      "source": [
        "def factorial_recursive(n):\n",
        "    if n == 0 or n == 1:\n",
        "        return 1\n",
        "    return n * factorial_recursive(n - 1)\n",
        "\n",
        "\n",
        "print(\"Recursive:\", factorial_recursive(5))\n"
      ],
      "metadata": {
        "colab": {
          "base_uri": "https://localhost:8080/"
        },
        "id": "Ngw9Hayd2RKT",
        "outputId": "5d6f7384-8d22-4dc1-d964-479347fb64a3"
      },
      "execution_count": 5,
      "outputs": [
        {
          "output_type": "stream",
          "name": "stdout",
          "text": [
            "Recursive: 120\n"
          ]
        }
      ]
    },
    {
      "cell_type": "code",
      "source": [
        "def factorial_iterative(n):\n",
        "    result = 1\n",
        "    for i in range(2, n + 1):\n",
        "        result *= i\n",
        "    return result\n",
        "\n",
        "\n",
        "print(\"Iterative:\", factorial_iterative(5))\n"
      ],
      "metadata": {
        "colab": {
          "base_uri": "https://localhost:8080/"
        },
        "id": "rnMTvTcS2TZI",
        "outputId": "7969ea68-c51b-45e7-bbf3-d0baca564ef2"
      },
      "execution_count": 6,
      "outputs": [
        {
          "output_type": "stream",
          "name": "stdout",
          "text": [
            "Iterative: 120\n"
          ]
        }
      ]
    },
    {
      "cell_type": "code",
      "source": [
        "import time\n",
        "\n",
        "def factorial_recursive(n):\n",
        "    if n == 0 or n == 1:\n",
        "        return 1\n",
        "    return n * factorial_recursive(n - 1)\n",
        "\n",
        "def factorial_iterative(n):\n",
        "    result = 1\n",
        "    for i in range(2, n + 1):\n",
        "        result *= i\n",
        "    return result\n",
        "\n",
        "n = 10\n",
        "\n",
        "start = time.time()\n",
        "factorial_recursive(n)\n",
        "end = time.time()\n",
        "print(\"Recursive time:\", end - start)\n",
        "\n",
        "start = time.time()\n",
        "factorial_iterative(n)\n",
        "end = time.time()\n",
        "print(\"Iterative time:\", end - start)\n"
      ],
      "metadata": {
        "colab": {
          "base_uri": "https://localhost:8080/"
        },
        "id": "Sq1kpPXZ2W7m",
        "outputId": "0af8b659-fc5c-4f01-fb0e-2e25be81c78b"
      },
      "execution_count": 7,
      "outputs": [
        {
          "output_type": "stream",
          "name": "stdout",
          "text": [
            "Recursive time: 4.8160552978515625e-05\n",
            "Iterative time: 5.054473876953125e-05\n"
          ]
        }
      ]
    },
    {
      "cell_type": "code",
      "source": [
        "import sys\n",
        "\n",
        "def factorial_iterative(n):\n",
        "    result = 1\n",
        "    for i in range(2, n + 1):\n",
        "        result *= i\n",
        "    return result\n",
        "\n",
        "num = 6\n",
        "result = factorial_iterative(num)\n",
        "print(\"Factorial:\", result)\n",
        "print(\"Memory used:\", sys.getsizeof(result), \"bytes\")\n"
      ],
      "metadata": {
        "colab": {
          "base_uri": "https://localhost:8080/"
        },
        "id": "R6LZrApL2avY",
        "outputId": "70f80a44-1e67-4e3a-cf77-3771e3766f33"
      },
      "execution_count": 8,
      "outputs": [
        {
          "output_type": "stream",
          "name": "stdout",
          "text": [
            "Factorial: 720\n",
            "Memory used: 28 bytes\n"
          ]
        }
      ]
    },
    {
      "cell_type": "code",
      "source": [
        "def factorial_iterative(n):\n",
        "    if not isinstance(n, int) or n < 0:\n",
        "        return \"Invalid input! Enter a non-negative integer.\"\n",
        "    result = 1\n",
        "    for i in range(2, n + 1):\n",
        "        result *= i\n",
        "    return result\n",
        "\n",
        "print(factorial_iterative(5))\n",
        "print(factorial_iterative(-3))\n"
      ],
      "metadata": {
        "colab": {
          "base_uri": "https://localhost:8080/"
        },
        "id": "oPybNWAS2fNB",
        "outputId": "1c17470e-aebe-4fb3-edd8-02ff2760f0b1"
      },
      "execution_count": 9,
      "outputs": [
        {
          "output_type": "stream",
          "name": "stdout",
          "text": [
            "120\n",
            "Invalid input! Enter a non-negative integer.\n"
          ]
        }
      ]
    },
    {
      "cell_type": "code",
      "source": [
        "def factorial_recursive(n):\n",
        "    if n == 0 or n == 1:\n",
        "        return 1\n",
        "    return n * factorial_recursive(n - 1)\n",
        "\n",
        "def factorial_iterative(n):\n",
        "    result = 1\n",
        "    for i in range(2, n + 1):\n",
        "        result *= i\n",
        "    return result\n",
        "\n",
        "n = 5\n",
        "rec = factorial_recursive(n)\n",
        "itr = factorial_iterative(n)\n",
        "\n",
        "print(\"\\nComparison Table\")\n",
        "print(f\"{'Method':<12}{'Result'}\")\n",
        "print(\"-\" * 20)\n",
        "print(f\"{'Recursive':<12}{rec}\")\n",
        "print(f\"{'Iterative':<12}{itr}\")\n"
      ],
      "metadata": {
        "colab": {
          "base_uri": "https://localhost:8080/"
        },
        "id": "QGnfKr8y2j-a",
        "outputId": "41d857da-0e56-4b3c-f448-342e14103f1d"
      },
      "execution_count": 10,
      "outputs": [
        {
          "output_type": "stream",
          "name": "stdout",
          "text": [
            "\n",
            "Comparison Table\n",
            "Method      Result\n",
            "--------------------\n",
            "Recursive   120\n",
            "Iterative   120\n"
          ]
        }
      ]
    },
    {
      "cell_type": "markdown",
      "source": [
        "3rd question"
      ],
      "metadata": {
        "id": "iDXlJpyQ28uK"
      }
    },
    {
      "cell_type": "code",
      "source": [
        "def factorial(n):\n",
        "    if n == 0 or n == 1:\n",
        "        return 1\n",
        "    return n * factorial(n - 1)\n",
        "\n",
        "# Example\n",
        "print(\"Factorial of 5:\", factorial(5))\n"
      ],
      "metadata": {
        "colab": {
          "base_uri": "https://localhost:8080/"
        },
        "id": "8TsJNUOv298T",
        "outputId": "91d4a730-4aba-474d-dc18-111f15c9a93d"
      },
      "execution_count": 11,
      "outputs": [
        {
          "output_type": "stream",
          "name": "stdout",
          "text": [
            "Factorial of 5: 120\n"
          ]
        }
      ]
    },
    {
      "cell_type": "code",
      "source": [
        "n = int(input(\"Enter total number of people/items (n): \"))\n",
        "r = int(input(\"Enter number of places (r): \"))\n",
        "print(\"You entered n =\", n, \"and r =\", r)\n"
      ],
      "metadata": {
        "colab": {
          "base_uri": "https://localhost:8080/"
        },
        "id": "IwdIXOJb3NlD",
        "outputId": "861b6dfa-8cae-468d-e1e3-ebd81c3a3ce6"
      },
      "execution_count": 15,
      "outputs": [
        {
          "output_type": "stream",
          "name": "stdout",
          "text": [
            "Enter total number of people/items (n): 5\n",
            "Enter number of places (r): 3\n",
            "You entered n = 5 and r = 3\n"
          ]
        }
      ]
    },
    {
      "cell_type": "code",
      "source": [
        "def factorial(n):\n",
        "    if n == 0 or n == 1:\n",
        "        return 1\n",
        "    return n * factorial(n - 1)\n",
        "\n",
        "n = 5\n",
        "r = 3\n",
        "nPr = factorial(n) // factorial(n - r)\n",
        "print(f\"{n}P{r} = {nPr}\")\n"
      ],
      "metadata": {
        "colab": {
          "base_uri": "https://localhost:8080/"
        },
        "id": "p5jzcl6R3Tvh",
        "outputId": "009432dc-443d-4737-a165-42fd65c6c184"
      },
      "execution_count": 14,
      "outputs": [
        {
          "output_type": "stream",
          "name": "stdout",
          "text": [
            "5P3 = 60\n"
          ]
        }
      ]
    },
    {
      "cell_type": "code",
      "source": [
        "def factorial(n):\n",
        "    if n == 0 or n == 1:\n",
        "        return 1\n",
        "    return n * factorial(n - 1)\n",
        "\n",
        "n = int(input(\"Enter n: \"))\n",
        "r = int(input(\"Enter r: \"))\n",
        "\n",
        "if n < r:\n",
        "    print(\"Invalid! n must be greater than or equal to r.\")\n",
        "else:\n",
        "    print(f\"Valid input: n = {n}, r = {r}\")\n"
      ],
      "metadata": {
        "colab": {
          "base_uri": "https://localhost:8080/"
        },
        "id": "b2KMuFc53iaH",
        "outputId": "910a292c-257b-4f45-9098-9b4c69d0ab0c"
      },
      "execution_count": 16,
      "outputs": [
        {
          "output_type": "stream",
          "name": "stdout",
          "text": [
            "Enter n: 5\n",
            "Enter r: 3\n",
            "Valid input: n = 5, r = 3\n"
          ]
        }
      ]
    },
    {
      "cell_type": "code",
      "source": [
        "def factorial(n):\n",
        "    if n == 0 or n == 1:\n",
        "        print(f\"factorial({n}) = 1 (base case)\")\n",
        "        return 1\n",
        "    else:\n",
        "        print(f\"factorial({n}) = {n} * factorial({n-1})\")\n",
        "        return n * factorial(n - 1)\n",
        "\n",
        "def permutations(n, r):\n",
        "    print(f\"\\nCalculating {n}P{r}:\")\n",
        "    num = factorial(n)\n",
        "    den = factorial(n - r)\n",
        "    result = num // den\n",
        "    print(f\"\\n{n}P{r} = {num} / {den} = {result}\")\n",
        "    return result\n",
        "\n",
        "\n",
        "permutations(5, 3)\n"
      ],
      "metadata": {
        "colab": {
          "base_uri": "https://localhost:8080/"
        },
        "id": "Pfznxi1u3rLy",
        "outputId": "048edaae-f458-41dc-ef16-f08756de6976"
      },
      "execution_count": 17,
      "outputs": [
        {
          "output_type": "stream",
          "name": "stdout",
          "text": [
            "\n",
            "Calculating 5P3:\n",
            "factorial(5) = 5 * factorial(4)\n",
            "factorial(4) = 4 * factorial(3)\n",
            "factorial(3) = 3 * factorial(2)\n",
            "factorial(2) = 2 * factorial(1)\n",
            "factorial(1) = 1 (base case)\n",
            "factorial(2) = 2 * factorial(1)\n",
            "factorial(1) = 1 (base case)\n",
            "\n",
            "5P3 = 120 / 2 = 60\n"
          ]
        },
        {
          "output_type": "execute_result",
          "data": {
            "text/plain": [
              "60"
            ]
          },
          "metadata": {},
          "execution_count": 17
        }
      ]
    },
    {
      "cell_type": "markdown",
      "source": [
        "4th question"
      ],
      "metadata": {
        "id": "c8Z38LPL34U6"
      }
    },
    {
      "cell_type": "code",
      "source": [
        "def factorial_recursive(n):\n",
        "    if n == 0 or n == 1:\n",
        "        return 1\n",
        "    return n * factorial_recursive(n - 1)\n",
        "\n",
        "print(\"Recursive factorial of 5:\", factorial_recursive(5))\n"
      ],
      "metadata": {
        "colab": {
          "base_uri": "https://localhost:8080/"
        },
        "id": "ayjTWacz356u",
        "outputId": "ef1874b7-ceea-40e5-f941-34dbdac44e3c"
      },
      "execution_count": 19,
      "outputs": [
        {
          "output_type": "stream",
          "name": "stdout",
          "text": [
            "Recursive factorial of 5: 120\n"
          ]
        }
      ]
    },
    {
      "cell_type": "code",
      "source": [
        "n = int(input(\"Enter a number: \"))\n",
        "if n > 998:\n",
        "    print(\" Warning: n is too large! May cause recursion depth error.\")\n",
        "else:\n",
        "    print(\"You entered:\", n)\n"
      ],
      "metadata": {
        "colab": {
          "base_uri": "https://localhost:8080/"
        },
        "id": "nmONICS45BMu",
        "outputId": "19c3271e-4d8a-4e85-eef7-8d97577de71d"
      },
      "execution_count": 20,
      "outputs": [
        {
          "output_type": "stream",
          "name": "stdout",
          "text": [
            "Enter a number: 6\n",
            "You entered: 6\n"
          ]
        }
      ]
    },
    {
      "cell_type": "code",
      "source": [
        "def factorial_recursive(n):\n",
        "    if n == 0 or n == 1:\n",
        "        return 1\n",
        "    return n * factorial_recursive(n - 1)\n",
        "\n",
        "try:\n",
        "    print(\"Factorial of 1000:\", factorial_recursive(1000))\n",
        "except RecursionError:\n",
        "    print(\"RecursionError: Maximum recursion depth reached!\")\n"
      ],
      "metadata": {
        "colab": {
          "base_uri": "https://localhost:8080/"
        },
        "id": "ImS8ZkT05DW4",
        "outputId": "066b19c3-a49e-42d2-8ffb-a8ccae98b0c6"
      },
      "execution_count": 21,
      "outputs": [
        {
          "output_type": "stream",
          "name": "stdout",
          "text": [
            "RecursionError: Maximum recursion depth reached!\n"
          ]
        }
      ]
    },
    {
      "cell_type": "code",
      "source": [
        "def factorial_recursive(n):\n",
        "    if n == 0 or n == 1:\n",
        "        return 1\n",
        "    return n * factorial_recursive(n - 1)\n",
        "\n",
        "def factorial_iterative(n):\n",
        "    result = 1\n",
        "    for i in range(2, n+1):\n",
        "        result *= i\n",
        "    return result\n",
        "\n",
        "n = 10\n",
        "print(\"Recursive:\", factorial_recursive(n))\n",
        "print(\"Iterative:\", factorial_iterative(n))\n"
      ],
      "metadata": {
        "colab": {
          "base_uri": "https://localhost:8080/"
        },
        "id": "SEf0uMCP5K1O",
        "outputId": "370bd070-a5e6-466d-c9d0-2b012cf37815"
      },
      "execution_count": 22,
      "outputs": [
        {
          "output_type": "stream",
          "name": "stdout",
          "text": [
            "Recursive: 3628800\n",
            "Iterative: 3628800\n"
          ]
        }
      ]
    },
    {
      "cell_type": "code",
      "source": [
        "import sys\n",
        "print(\"Maximum recursion depth allowed in Python:\", sys.getrecursionlimit())\n"
      ],
      "metadata": {
        "id": "YFS8GGzp5aXu",
        "outputId": "3e334d7b-0fd1-4e2d-d57c-9fa910a834b2",
        "colab": {
          "base_uri": "https://localhost:8080/"
        }
      },
      "execution_count": 23,
      "outputs": [
        {
          "output_type": "stream",
          "name": "stdout",
          "text": [
            "Maximum recursion depth allowed in Python: 1000\n"
          ]
        }
      ]
    },
    {
      "cell_type": "code",
      "source": [],
      "metadata": {
        "id": "CgyY3jJJ5blF"
      },
      "execution_count": null,
      "outputs": []
    }
  ]
}